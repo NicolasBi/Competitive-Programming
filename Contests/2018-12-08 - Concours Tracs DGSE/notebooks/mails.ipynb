{
 "cells": [
  {
   "cell_type": "code",
   "execution_count": 62,
   "metadata": {},
   "outputs": [],
   "source": [
    "from glob import glob\n",
    "\n",
    "PATH_DIR_DATA = \"../data/mail_content_data\"\n",
    "\n",
    "for file in glob(PATH_DIR_DATA + \"/mail_BGG_*.txt\"):\n",
    "    with open(file) as f:\n",
    "        try:\n",
    "            content = f.read()\n",
    "            if \">>>\" not in content:\n",
    "                continue\n",
    "            if \"air\" in content.lower():\n",
    "                print(file, \":\\n\" + content, \"\\n\\n_______________________________\")\n",
    "        except UnicodeDecodeError:\n",
    "            pass"
   ]
  },
  {
   "cell_type": "code",
   "execution_count": 56,
   "metadata": {},
   "outputs": [
    {
     "name": "stdout",
     "output_type": "stream",
     "text": [
      "[11, 15, 28, 10, 9, 7, 11, 33, 44, 5, 2, 13, 8, 5, 10, 7, 9, 2, 9, 2, 17, 2, 9, 15, 21, 5, 9, 12, 11, 6, 5, 2, 15, 11, 22, 29, 35]\n"
     ]
    }
   ],
   "source": [
    "with open(\"../data/mail_content_data/mail_BGG_771.txt\", \"rb\") as file:\n",
    "    sentence = str(file.readlines()[-5])[4:-3]\n",
    "\n",
    "print(list(map(len, sentence.split(r\"\\xc2\\xa0\"))))"
   ]
  },
  {
   "cell_type": "code",
   "execution_count": null,
   "metadata": {},
   "outputs": [],
   "source": []
  }
 ],
 "metadata": {
  "kernelspec": {
   "display_name": "Python 3",
   "language": "python",
   "name": "python3"
  },
  "language_info": {
   "codemirror_mode": {
    "name": "ipython",
    "version": 3
   },
   "file_extension": ".py",
   "mimetype": "text/x-python",
   "name": "python",
   "nbconvert_exporter": "python",
   "pygments_lexer": "ipython3",
   "version": "3.6.0"
  }
 },
 "nbformat": 4,
 "nbformat_minor": 2
}
