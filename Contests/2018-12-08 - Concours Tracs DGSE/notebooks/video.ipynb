{
 "cells": [
  {
   "cell_type": "code",
   "execution_count": 1,
   "metadata": {},
   "outputs": [],
   "source": [
    "import os\n",
    "from hashlib import sha1\n",
    "\n",
    "import cv2\n",
    "\n",
    "\n",
    "def split_video_into_frames(path_video, path_dir_output=\"frames\", saving_method=\"hash\")\n",
    "    \"\"\" Split a video file into the frames composing it.\n",
    "    \n",
    "    :param path_video: The path to the video from which the frames are going to be extracted.\n",
    "    :param path_dir_output: The output directory of the frames.\n",
    "    :param saving_method: The method used to extract the frames. Can be 'hash' or 'iterative'. 'iterative' will\n",
    "    extract and save all frames, orderer by their apparition in the video. 'hash' will extract a frame, hash-it,\n",
    "    then see if it already has been extracted. This is less-disk intensive.\n",
    "\n",
    "    TODO: parametize the hashing algorithm used, add more hashing algorithms.\n",
    "    \"\"\"\n",
    "    vidcap = cv2.VideoCapture(path_video)\n",
    "    success, image = vidcap.read()\n",
    "    \n",
    "    if saving_method == \"hash\":\n",
    "        hash_values = set()\n",
    "        while success:\n",
    "            hash_value = sha1(image.data).hexdigest()\n",
    "\n",
    "            if hash_value not in hash_values:\n",
    "                hash_values.add(hash_value)\n",
    "                cv2.imwrite(os.path.join(path_dir_output, hash_value + \".jpg\"), image)      \n",
    "            success, image = vidcap.read()\n",
    "    elif saving_method == \"iterative\":\n",
    "        i_frame = 0\n",
    "        while success:\n",
    "            cv2.imwrite(os.path.join(path_dir_output, \"frame_%d.jpg\" % i_frame), image)  \n",
    "            success,image = vidcap.read()\n",
    "            i_frame += 1\n",
    "    else:\n",
    "        raise ArgumentError(\"Unknown saving method : {}\".format(saving_method))\n",
    "\n",
    "        \n",
    "split_video_into_frames(\"nothing_of_interest.mp4\")"
   ]
  }
 ],
 "metadata": {
  "kernelspec": {
   "display_name": "Python 3",
   "language": "python",
   "name": "python3"
  },
  "language_info": {
   "codemirror_mode": {
    "name": "ipython",
    "version": 3
   },
   "file_extension": ".py",
   "mimetype": "text/x-python",
   "name": "python",
   "nbconvert_exporter": "python",
   "pygments_lexer": "ipython3",
   "version": "3.7.0"
  }
 },
 "nbformat": 4,
 "nbformat_minor": 2
}
