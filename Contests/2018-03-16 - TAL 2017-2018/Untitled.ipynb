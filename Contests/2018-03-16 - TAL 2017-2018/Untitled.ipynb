{
 "cells": [
  {
   "cell_type": "code",
   "execution_count": 1,
   "metadata": {},
   "outputs": [],
   "source": [
    "from pprint import pprint\n",
    "from random import random\n",
    "\n",
    "import numpy as np\n",
    "from sklearn.naive_bayes import MultinomialNB\n",
    "from sklearn.pipeline import Pipeline\n",
    "from sklearn.feature_extraction.text import TfidfTransformer, CountVectorizer\n",
    "\n",
    "from parsing import *\n",
    "from preprocessing import *\n",
    "from filtrage import *\n",
    "from common import *\n",
    "from vectorization import *\n",
    "from learning import *\n",
    "from postprocessing import *"
   ]
  },
  {
   "cell_type": "markdown",
   "metadata": {},
   "source": [
    "## Chargement des données + preprocessing"
   ]
  },
  {
   "cell_type": "code",
   "execution_count": 2,
   "metadata": {},
   "outputs": [],
   "source": [
    "data_train, data_test = parse_movie_reviews()\n",
    "classes_train = ([\"neg\"] * 1000) + ([\"pos\"] * 1000)\n",
    "data_train, classes_train, data_test = apply_preprocessing()"
   ]
  },
  {
   "cell_type": "code",
   "execution_count": 3,
   "metadata": {},
   "outputs": [],
   "source": [
    "count_vectorizer = CountVectorizer()\n",
    "data_train_count = count_vectorizer.fit_transform(data_train)\n",
    "\n",
    "tf_transformer = TfidfTransformer(use_idf=False).fit(data_train_count)\n",
    "data_train_tf = tf_transformer.fit_transform(data_train_count)\n",
    "\n",
    "tfidf_transformer = TfidfTransformer()\n",
    "data_train_tfidf = tfidf_transformer.fit_transform(data_train_count)\n",
    "\n",
    "# Transform test\n",
    "data_test_count = count_vectorizer.transform(data_test)\n",
    "data_test_tfidf = tfidf_transformer.transform(data_test_count)\n",
    "\n",
    "# Apprentissage\n",
    "classifieur = learn(data_train_tfidf, classes_train, MultinomialNB)"
   ]
  },
  {
   "cell_type": "code",
   "execution_count": 4,
   "metadata": {},
   "outputs": [],
   "source": [
    "ppln_count_mnnaivebayes = Pipeline([\n",
    "    (\"vect\", count_vectorizer),\n",
    "    (\"clf\", MultinomialNB())\n",
    "])\n",
    "\n",
    "ppln_tf_mnnaivebayes = Pipeline([\n",
    "    (\"vect\", count_vectorizer),\n",
    "    (\"tfidf\", tf_transformer),\n",
    "    (\"clf\", MultinomialNB())\n",
    "])\n",
    "\n",
    "ppln_tfidf_mnnaivebayes = Pipeline([\n",
    "    (\"vect\", count_vectorizer),\n",
    "    (\"tfidf\", tfidf_transformer),\n",
    "    (\"clf\", MultinomialNB())\n",
    "])"
   ]
  },
  {
   "cell_type": "markdown",
   "metadata": {},
   "source": [
    "## Prédictions"
   ]
  },
  {
   "cell_type": "code",
   "execution_count": 10,
   "metadata": {},
   "outputs": [],
   "source": [
    "# Prediction\n",
    "predictions = classifieur.predict(data_test_count)\n",
    "postprocessing_movie_reviews(predictions)"
   ]
  },
  {
   "cell_type": "code",
   "execution_count": 9,
   "metadata": {},
   "outputs": [],
   "source": [
    "import numpy as np\n",
    "\n",
    "\n",
    "OUTPUT_CM = \"_OUTPUT_CM.txt\"\n",
    "OUTPUT_MR = \"_OUTPUT_MR.txt\"\n",
    "\n",
    "\n",
    "def postprocessing_chirac_mitterrand(predictions):\n",
    "    global OUTPUT_CM\n",
    "\n",
    "    content = \"\\n\".join(predictions)\n",
    "    with open(OUTPUT_CM, \"w\") as file:\n",
    "        file.write(content)\n",
    "\n",
    "\n",
    "def postprocessing_movie_reviews(predictions):\n",
    "    global OUTPUT_MR\n",
    "\n",
    "    new_predictions = []\n",
    "    for c in predictions:\n",
    "        if c == \"pos\":\n",
    "            new_predictions.append(\"M\")\n",
    "        else:\n",
    "            new_predictions.append(\"C\")\n",
    "    predictions = new_predictions[:-1]\n",
    "\n",
    "    np.savetxt(OUTPUT_MR, predictions, fmt=\"%c\")"
   ]
  },
  {
   "cell_type": "markdown",
   "metadata": {},
   "source": [
    "## On output la prédiction"
   ]
  },
  {
   "cell_type": "code",
   "execution_count": 19,
   "metadata": {},
   "outputs": [],
   "source": []
  },
  {
   "cell_type": "code",
   "execution_count": null,
   "metadata": {},
   "outputs": [],
   "source": []
  }
 ],
 "metadata": {
  "kernelspec": {
   "display_name": "Python 3",
   "language": "python",
   "name": "python3"
  },
  "language_info": {
   "codemirror_mode": {
    "name": "ipython",
    "version": 3
   },
   "file_extension": ".py",
   "mimetype": "text/x-python",
   "name": "python",
   "nbconvert_exporter": "python",
   "pygments_lexer": "ipython3",
   "version": "3.6.0"
  }
 },
 "nbformat": 4,
 "nbformat_minor": 2
}
