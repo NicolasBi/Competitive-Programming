{
 "cells": [
  {
   "cell_type": "markdown",
   "metadata": {},
   "source": [
    "# Malware detection\n",
    "* Indexation : hasher le fichier puis chercher le hash dans une base de données de malwares. Très facilement contrable en modifiant très légèrement le code source du malware.\n",
    "* Clustering sur le contenu binaire : On représente le fichier comme un vecteur binaire (ou une image en niveaux de gris), et on effectue une méthode de clustering comme KNN pour détecter son type de contenu. Assez efficace car les malwares peuvent être regroupés par famille et ont très souvent du contenu similaire.\n",
    "* Classification par signature virale : On extrait la **signature virale** du fichier, eg : on extrait ses n-grams, puis on le classifie. Sensible à l'ofubscation et base très large en mémoire.\n",
    "* Surveillance des appels systèmes : Un processus effectuant un grand nombre d'appels systèmes ou des appels systèmes suspects peut être classifié comme malware.\n",
    "* ANDROID, surveillance des permissions : Le fichier _AndroidManifest.xml_ spécifique à chaque application contient les permissions demandées par celle-ci. On peut classifier des applications comme dangereuses en analysant les permissions qu'elle demande. \n",
    "* ANDROID, surveillance du prix : Les malwares sont, dans la grande majorité des cas, distribués gratuitement."
   ]
  },
  {
   "cell_type": "markdown",
   "metadata": {},
   "source": [
    "# Evaluation\n",
    "* Beaucoup de goodware, peu de malware : Score F1"
   ]
  },
  {
   "cell_type": "code",
   "execution_count": null,
   "metadata": {},
   "outputs": [],
   "source": []
  }
 ],
 "metadata": {
  "kernelspec": {
   "display_name": "Python 3",
   "language": "python",
   "name": "python3"
  },
  "language_info": {
   "codemirror_mode": {
    "name": "ipython",
    "version": 3
   },
   "file_extension": ".py",
   "mimetype": "text/x-python",
   "name": "python",
   "nbconvert_exporter": "python",
   "pygments_lexer": "ipython3",
   "version": "3.6.0"
  }
 },
 "nbformat": 4,
 "nbformat_minor": 2
}
