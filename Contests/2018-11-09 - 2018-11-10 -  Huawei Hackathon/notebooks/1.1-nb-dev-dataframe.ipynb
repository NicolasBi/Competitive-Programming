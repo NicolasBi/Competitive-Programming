{
 "cells": [
  {
   "cell_type": "code",
   "execution_count": 1,
   "metadata": {},
   "outputs": [],
   "source": [
    "from sklearn import datasets\n",
    "import pandas as pd"
   ]
  },
  {
   "cell_type": "markdown",
   "metadata": {},
   "source": [
    "# TODO: \n",
    "* https://pandas.pydata.org/pandas-docs/version/0.23.4/generated/pandas.cut.html\n",
    "* https://www.programiz.com/python-programming/methods/built-in/slice"
   ]
  },
  {
   "cell_type": "code",
   "execution_count": 4,
   "metadata": {},
   "outputs": [
    {
     "data": {
      "text/html": [
       "<div>\n",
       "<style scoped>\n",
       "    .dataframe tbody tr th:only-of-type {\n",
       "        vertical-align: middle;\n",
       "    }\n",
       "\n",
       "    .dataframe tbody tr th {\n",
       "        vertical-align: top;\n",
       "    }\n",
       "\n",
       "    .dataframe thead th {\n",
       "        text-align: right;\n",
       "    }\n",
       "</style>\n",
       "<table border=\"1\" class=\"dataframe\">\n",
       "  <thead>\n",
       "    <tr style=\"text-align: right;\">\n",
       "      <th></th>\n",
       "      <th>sepal length (cm)</th>\n",
       "      <th>sepal width (cm)</th>\n",
       "      <th>petal length (cm)</th>\n",
       "      <th>petal width (cm)</th>\n",
       "    </tr>\n",
       "  </thead>\n",
       "  <tbody>\n",
       "    <tr>\n",
       "      <th>0</th>\n",
       "      <td>5.1</td>\n",
       "      <td>3.5</td>\n",
       "      <td>1.4</td>\n",
       "      <td>0.2</td>\n",
       "    </tr>\n",
       "    <tr>\n",
       "      <th>1</th>\n",
       "      <td>4.9</td>\n",
       "      <td>3.0</td>\n",
       "      <td>1.4</td>\n",
       "      <td>0.2</td>\n",
       "    </tr>\n",
       "    <tr>\n",
       "      <th>2</th>\n",
       "      <td>4.7</td>\n",
       "      <td>3.2</td>\n",
       "      <td>1.3</td>\n",
       "      <td>0.2</td>\n",
       "    </tr>\n",
       "    <tr>\n",
       "      <th>3</th>\n",
       "      <td>4.6</td>\n",
       "      <td>3.1</td>\n",
       "      <td>1.5</td>\n",
       "      <td>0.2</td>\n",
       "    </tr>\n",
       "    <tr>\n",
       "      <th>4</th>\n",
       "      <td>5.0</td>\n",
       "      <td>3.6</td>\n",
       "      <td>1.4</td>\n",
       "      <td>0.2</td>\n",
       "    </tr>\n",
       "  </tbody>\n",
       "</table>\n",
       "</div>"
      ],
      "text/plain": [
       "   sepal length (cm)  sepal width (cm)  petal length (cm)  petal width (cm)\n",
       "0                5.1               3.5                1.4               0.2\n",
       "1                4.9               3.0                1.4               0.2\n",
       "2                4.7               3.2                1.3               0.2\n",
       "3                4.6               3.1                1.5               0.2\n",
       "4                5.0               3.6                1.4               0.2"
      ]
     },
     "execution_count": 4,
     "metadata": {},
     "output_type": "execute_result"
    }
   ],
   "source": [
    "data = datasets.load_iris()\n",
    "df = pd.DataFrame(data.data, columns=data.feature_names)\n",
    "df.head()"
   ]
  },
  {
   "cell_type": "code",
   "execution_count": 13,
   "metadata": {},
   "outputs": [
    {
     "data": {
      "text/plain": [
       "<matplotlib.axes._subplots.AxesSubplot at 0x156e97bac88>"
      ]
     },
     "execution_count": 13,
     "metadata": {},
     "output_type": "execute_result"
    },
    {
     "data": {
      "image/png": "[encoded data removed]",
      "text/plain": [
       "<matplotlib.figure.Figure at 0x156d7d797b8>"
      ]
     },
     "metadata": {},
     "output_type": "display_data"
    }
   ],
   "source": [
    "df.boxplot()"
   ]
  },
  {
   "cell_type": "code",
   "execution_count": null,
   "metadata": {},
   "outputs": [],
   "source": [
    "\n",
    "def truc(datax, datay, clf, n_splits=3):\n",
    "    skf = StratifiedKFold(n_splits=2)\n",
    "    clf = RandomForestClassifier(n_estimators=5, max_depth=None, min_samples_split=2, n_jobs=-1)\n",
    "\n",
    "    scores_acc = []\n",
    "    dim_to_keep_acc = []\n",
    "    while (len(scores_acc) <= 2) or ((scores_acc[-1] >= scores_acc[-2]) and (len(dim_to_keep_acc) != datax.shape[-1])):    \n",
    "        scores_acc_dim = np.array([])\n",
    "        for i_dim in tqdm(range(datax.shape[-1])):\n",
    "            if i_dim in dim_to_keep_acc:\n",
    "                scores_acc_dim = np.hstack((scores_acc_dim, -1))\n",
    "                continue\n",
    "            sub_datax_acc, sub_datay_acc = datax[:, dim_to_keep_acc + [i_dim]], datay\n",
    "\n",
    "            score_acc_dim = np.array([])\n",
    "            for train_index, test_index in skf.split(sub_datax_acc, sub_datay_acc):\n",
    "                datax_train, datax_test = sub_datax_acc[train_index], sub_datax_acc[test_index]\n",
    "                datay_train, datay_test = sub_datay_acc[train_index], sub_datay_acc[test_index]\n",
    "                clf.fit(datax_train, datay_train)\n",
    "\n",
    "                score_acc_dim = np.hstack((score_acc_dim, clf.score(datax_test, datay_test)))\n",
    "            scores_acc_dim = np.hstack((scores_acc_dim, score_acc_dim.mean()))\n",
    "        dim_to_keep_acc.append(scores_acc_dim.argmax())\n",
    "        scores_acc.append(scores_acc_dim.max())\n",
    "\n",
    "        print(\"Iteration :\", len(dim_to_keep_ams))\n",
    "        print(dim_to_keep_acc, scores_acc)\n",
    "        print(dim_to_keep_ams, scores_ams)"
   ]
  }
 ],
 "metadata": {
  "kernelspec": {
   "display_name": "Python 3",
   "language": "python",
   "name": "python3"
  },
  "language_info": {
   "codemirror_mode": {
    "name": "ipython",
    "version": 3
   },
   "file_extension": ".py",
   "mimetype": "text/x-python",
   "name": "python",
   "nbconvert_exporter": "python",
   "pygments_lexer": "ipython3",
   "version": "3.6.0"
  }
 },
 "nbformat": 4,
 "nbformat_minor": 2
}
