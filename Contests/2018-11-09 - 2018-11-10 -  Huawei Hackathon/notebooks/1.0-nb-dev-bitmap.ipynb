{
 "cells": [
  {
   "cell_type": "code",
   "execution_count": 267,
   "metadata": {},
   "outputs": [],
   "source": [
    "import os\n",
    "import math\n",
    "\n",
    "import numpy as np\n",
    "import matplotlib.pyplot as plt\n",
    "import PIL\n",
    "\n",
    "PATH_DIR_DATA = \"../data\"\n",
    "PATH_DATA = os.path.join(PATH_DIR_DATA, \"external/malimg-dataset/malimg.npz\")"
   ]
  },
  {
   "cell_type": "code",
   "execution_count": 290,
   "metadata": {},
   "outputs": [],
   "source": [
    "def bits_to_picture(bits, picture_height, padding_value=0):\n",
    "    \"\"\" Convert a numpy array of binary values to a graymap picture.\n",
    "    The width of the picture is computed automaticaly with the `picture_height` parameter.\n",
    "    Missing pixels are completed with the calue of `padding_value`.\n",
    "    \n",
    "    :param bits: The array of bits to convert.\n",
    "    :param picture_height: The height of the output picture.\n",
    "    :param padding_value: The value replacing missing pixels.\n",
    "    \"\"\"\n",
    "    # Convert array of bits to array of ints\n",
    "    bitmap = np.char.mod('%d', bits.reshape(-1, 8))\n",
    "    bitmap = np.apply_along_axis(lambda b: int(\"\".join(b), 2),\n",
    "                                 axis=1, arr=bitmap).astype(np.uint8)\n",
    "\n",
    "    # Convert bitmap vector to a matrix\n",
    "    number_of_pixels = bitmap.shape[0]\n",
    "    bitmap.resize(picture_height * math.ceil(bitmap.shape[0] / picture_height))\n",
    "    bitmap[number_of_pixels:] = padding_value  # Add padding\n",
    "    picture = bitmap.reshape(picture_height, math.ceil(bitmap.shape[0] / picture_height))\n",
    "    return picture\n",
    "\n",
    "\n",
    "def gray_to_rgb(picture):\n",
    "    \"\"\" Convert a grayscale picture represented as a 2D numpy\n",
    "    array to a RGB picture represented as a 3D numpy array.\n",
    "    \n",
    "    :param picture: The picture to convert.\n",
    "    \"\"\"\n",
    "    return np.stack((picture, ) * 3, axis=-1)"
   ]
  },
  {
   "cell_type": "code",
   "execution_count": 291,
   "metadata": {},
   "outputs": [
    {
     "data": {
      "image/png": "[encoded data removed]",
      "text/plain": [
       "<matplotlib.figure.Figure at 0x265e51b4588>"
      ]
     },
     "metadata": {},
     "output_type": "display_data"
    }
   ],
   "source": [
    "malware = np.random.choice([0, 1], size=(1, 1024 * 8))\n",
    "picture = bits_to_picture(malware, 50)\n",
    "plt.imshow(picture, cmap='gray')\n",
    "plt.show()"
   ]
  },
  {
   "cell_type": "code",
   "execution_count": 292,
   "metadata": {},
   "outputs": [
    {
     "data": {
      "image/png": "[encoded data removed]",
      "text/plain": [
       "<matplotlib.figure.Figure at 0x265e520d6d8>"
      ]
     },
     "metadata": {},
     "output_type": "display_data"
    }
   ],
   "source": [
    "plt.imshow(gray_to_rgb(picture), cmap=\"summer\")\n",
    "plt.show()"
   ]
  },
  {
   "cell_type": "code",
   "execution_count": null,
   "metadata": {},
   "outputs": [],
   "source": []
  }
 ],
 "metadata": {
  "kernelspec": {
   "display_name": "Python 3",
   "language": "python",
   "name": "python3"
  },
  "language_info": {
   "codemirror_mode": {
    "name": "ipython",
    "version": 3
   },
   "file_extension": ".py",
   "mimetype": "text/x-python",
   "name": "python",
   "nbconvert_exporter": "python",
   "pygments_lexer": "ipython3",
   "version": "3.6.0"
  }
 },
 "nbformat": 4,
 "nbformat_minor": 2
}
